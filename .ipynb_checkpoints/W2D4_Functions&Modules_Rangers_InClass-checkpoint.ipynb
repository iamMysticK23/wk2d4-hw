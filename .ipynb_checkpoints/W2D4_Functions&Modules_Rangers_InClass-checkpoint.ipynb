{
 "cells": [
  {
   "cell_type": "markdown",
   "metadata": {},
   "source": [
    "# User-Defined Functions & Scoping"
   ]
  },
  {
   "cell_type": "markdown",
   "metadata": {},
   "source": [
    "## Tasks Today:\n",
    "\n",
    "\n",
    "1) Functions <br>\n",
    " &nbsp;&nbsp;&nbsp;&nbsp; a) User-Defined vs. Built-In Functions <br>\n",
    " &nbsp;&nbsp;&nbsp;&nbsp; b) Accepting Parameters <br>\n",
    " &nbsp;&nbsp;&nbsp;&nbsp; c) Default Parameters <br>\n",
    " &nbsp;&nbsp;&nbsp;&nbsp; d) Making an Argument Optional <br>\n",
    " &nbsp;&nbsp;&nbsp;&nbsp; e) Keyword Arguments <br>\n",
    " &nbsp;&nbsp;&nbsp;&nbsp; f) Returning Values <br>\n",
    " &nbsp;&nbsp;&nbsp;&nbsp; g) *args <br>\n",
    " &nbsp;&nbsp;&nbsp;&nbsp; h) Docstring <br>\n",
    " &nbsp;&nbsp;&nbsp;&nbsp; i) Using a User Function in a Loop <br>\n",
    "2) Scope\n",
    "3) Creating more User-Defined functions \n",
    "4) Modules <br>\n",
    " &nbsp;&nbsp;&nbsp;&nbsp; a) Importing Entire Modules <br>\n",
    " &nbsp;&nbsp;&nbsp;&nbsp; b) Importing Methods Only <br>\n",
    " &nbsp;&nbsp;&nbsp;&nbsp; c) Using the 'as' Keyword <br>\n",
    " &nbsp;&nbsp;&nbsp;&nbsp; d) Creating a Module <br>"
   ]
  },
  {
   "cell_type": "markdown",
   "metadata": {},
   "source": [
    "\n",
    "## Functions"
   ]
  },
  {
   "cell_type": "markdown",
   "metadata": {},
   "source": [
    "##### User-Defined vs. Built-In Functions"
   ]
  },
  {
   "cell_type": "code",
   "execution_count": 2,
   "metadata": {},
   "outputs": [
    {
     "name": "stdout",
     "output_type": "stream",
     "text": [
      "Hello\n",
      "<function say_hello at 0x114b7f9c0>\n",
      "Hello\n"
     ]
    }
   ],
   "source": [
    "# built in functions\n",
    "\n",
    "# syntax function_name()\n",
    "\n",
    "# print()\n",
    "# max()\n",
    "# min ()\n",
    "# len ()\n",
    "# sum ()\n",
    "\n",
    "# user defined functions\n",
    "\n",
    "def say_hello():\n",
    "    print('Hello')\n",
    "\n",
    "# calling upon our function\n",
    "say_hello() # when calling upon a function you always need parenthesis\n",
    "\n",
    "print(say_hello)\n",
    "\n",
    "def say_hello_again():\n",
    "    hello = say_hello()\n",
    "    return hello\n",
    "\n",
    "say_hello_again()"
   ]
  },
  {
   "cell_type": "markdown",
   "metadata": {},
   "source": [
    "##### Accepting Parameters"
   ]
  },
  {
   "cell_type": "code",
   "execution_count": 4,
   "metadata": {
    "scrolled": true
   },
   "outputs": [
    {
     "name": "stdout",
     "output_type": "stream",
     "text": [
      "Rangers 127 are really cool\n",
      "The Dog is very fluffy and its fast\n"
     ]
    }
   ],
   "source": [
    "# elements passed into a function\n",
    "# variables to hold the place of items our function will act upon\n",
    "# order matters\n",
    "# a parameter can be of any object type (data type)\n",
    "\n",
    "def return_something(something): # variable holding the place of actual data in the future\n",
    "    return something\n",
    "                        #argument\n",
    "print(return_something('Rangers 127 are really cool')) # this is the argument, what i am actually bringing on the plane \n",
    "                                                        #(aka inside my function)\n",
    "\n",
    "def make_sentence(noun, adjective, verb):\n",
    "    return f\"The {noun} is very {adjective} and its {verb}\" # order of using parameters inside function does not matter. its based on variable name!\n",
    "print(make_sentence('Dog', 'fluffy', 'fast'))\n",
    "      "
   ]
  },
  {
   "cell_type": "markdown",
   "metadata": {},
   "source": [
    "##### Default Parameters"
   ]
  },
  {
   "cell_type": "code",
   "execution_count": 6,
   "metadata": {},
   "outputs": [
    {
     "name": "stdout",
     "output_type": "stream",
     "text": [
      "The name is James.....James Epps\n"
     ]
    }
   ],
   "source": [
    "# default parameters must always come after non-default parameters at all times forever and ever...or else\n",
    "\n",
    "# what denotes a default or an optional parameter is the  =\n",
    "\n",
    "def agent_name(first_name, last_name=\"Bond\"):\n",
    "    return f\"The name is {first_name}.....{first_name} {last_name}\"\n",
    "print(agent_name(\"James\", \"Epps\"))"
   ]
  },
  {
   "cell_type": "code",
   "execution_count": 11,
   "metadata": {},
   "outputs": [
    {
     "name": "stdout",
     "output_type": "stream",
     "text": [
      "The name is Devante.....Devante Rose\n",
      "Brendan your birthday is 25 September 1996\n"
     ]
    }
   ],
   "source": [
    "# default parameters must always come after non-default parameters at all times forever and ever...or else\n",
    "\n",
    "print(agent_name(last_name = \"Rose\" , first_name = \"Devante\"))\n",
    "\n",
    "def birthday_month(name, day, month, year =2023):\n",
    "    return f\"{name} your birthday is {day} {month} {year}\"\n",
    "print(birthday_month(\"Brendan\", 25, \"September\", 1996))"
   ]
  },
  {
   "cell_type": "markdown",
   "metadata": {},
   "source": [
    "##### Making an Argument Optional"
   ]
  },
  {
   "cell_type": "code",
   "execution_count": 13,
   "metadata": {},
   "outputs": [
    {
     "name": "stdout",
     "output_type": "stream",
     "text": [
      "My horse's name is Mr. Horsey Ed\n"
     ]
    }
   ],
   "source": [
    "            #positional parameter   #optional   # default\n",
    "def print_horse_name(first, middle=\"\", last =\"Ed\"):\n",
    "    return f\"My horse's name is {first} {middle} {last}\"\n",
    "\n",
    "print(print_horse_name(\"Mr.\", \"Horsey\"))\n",
    "    "
   ]
  },
  {
   "cell_type": "markdown",
   "metadata": {},
   "source": [
    "##### Keyword Arguments"
   ]
  },
  {
   "cell_type": "code",
   "execution_count": 14,
   "metadata": {},
   "outputs": [
    {
     "name": "stdout",
     "output_type": "stream",
     "text": [
      "Nico's super power is luck and their secret identity is being exposed and is Nico Cage)\n"
     ]
    }
   ],
   "source": [
    "#keyword arguments must follow positional arugments\n",
    "\n",
    "def print_hero(name, secret_identity, power=\"flying\"):\n",
    "    return f\"{name}'s super power is {power} and their secret identity is being exposed and is {secret_identity})\"\n",
    "\n",
    "print(print_hero(power=\"luck\", name=\"Nico\", secret_identity= \"Nico Cage\"))"
   ]
  },
  {
   "cell_type": "markdown",
   "metadata": {},
   "source": [
    "# Creating a start, stop, step function"
   ]
  },
  {
   "cell_type": "code",
   "execution_count": 17,
   "metadata": {
    "scrolled": true
   },
   "outputs": [
    {
     "name": "stdout",
     "output_type": "stream",
     "text": [
      "0\n",
      "2\n",
      "4\n",
      "6\n",
      "8\n",
      "[0, 2, 4, 6, 8]\n"
     ]
    }
   ],
   "source": [
    "\n",
    "def my_range(stop, start=0, step=1):\n",
    "    my_list = []\n",
    "    for i in range(start, stop, step):\n",
    "        print(i)\n",
    "        my_list.append(i)\n",
    "        \n",
    "    return my_list\n",
    "\n",
    "print(my_range(10, step=2)) # default or keyword (=) has to go last"
   ]
  },
  {
   "cell_type": "markdown",
   "metadata": {},
   "source": [
    "##### Returning Values"
   ]
  },
  {
   "cell_type": "code",
   "execution_count": 32,
   "metadata": {},
   "outputs": [],
   "source": [
    "poke_list = [\"charmander\", \"ditto\", \"eevee\", \"pikachu\", \"squirtle\",]\n",
    "\n",
    "def find_bulbasaur(arr):\n",
    "    for value in arr:\n",
    "        if value == \"bulbasaur\":\n",
    "            print (\"Bulba Bulba\")\n",
    "    return (\"No Bulbasaur here\")\n",
    "\n",
    "# where return is located is inmportant"
   ]
  },
  {
   "cell_type": "code",
   "execution_count": 33,
   "metadata": {},
   "outputs": [
    {
     "name": "stdout",
     "output_type": "stream",
     "text": [
      "No Bulbasaur here\n"
     ]
    }
   ],
   "source": [
    "function_value = find_bulbasaur(poke_list)\n",
    "print(function_value)\n"
   ]
  },
  {
   "cell_type": "code",
   "execution_count": 34,
   "metadata": {},
   "outputs": [
    {
     "name": "stdout",
     "output_type": "stream",
     "text": [
      "Oh no it looks like you didn't catch Bulbasaur :-(\n"
     ]
    }
   ],
   "source": [
    "\n",
    "def is_bulbasaur(string):\n",
    "    if string == \"Bulba Bulba\":\n",
    "        return \"We found Bulbasaur!!\"\n",
    "\n",
    "    return \"Oh no it looks like you didn't catch Bulbasaur :-(\"\n",
    "\n",
    "print(is_bulbasaur(find_bulbasaur(poke_list)))\n"
   ]
  },
  {
   "cell_type": "markdown",
   "metadata": {},
   "source": [
    "##### *args / **kwargs (keyword arguments)"
   ]
  },
  {
   "cell_type": "code",
   "execution_count": 41,
   "metadata": {},
   "outputs": [
    {
     "name": "stdout",
     "output_type": "stream",
     "text": [
      "These are our positional arguments 1 2\n",
      "These are our *args: (5, 7, 8, 10, 23, 'hello', [1, 2, 3])\n",
      "These are our **kwargs {'person1': {'name': 'Jason'}, 'person2': 'Priscilla', 'person3': 'Leza'}\n"
     ]
    }
   ],
   "source": [
    "#*args, **kwargs\n",
    "# *args stands for arguments and will allow the function to take in any number of arguments\n",
    "# **kwargs stands for key word arguments and will allow the function to take in any number of keyword arguments\n",
    "# if other parameters are present, args and kwarfs must go last\n",
    "\n",
    "def print_args_kwargs(num1, num2, *nums, **people): # * and ** can be named whatever\n",
    "    print(f\"These are our positional arguments {num1} {num2}\")\n",
    "    print(f\"These are our *args: {nums}\")\n",
    "    print(f\"These are our **kwargs {people}\")\n",
    "\n",
    "print_args_kwargs(1,2,5,7,8,10,23, \"hello\", [1,2,3], person1={\"name\" : \"Jason\"}, person2=\"Priscilla\", person3=\"Leza\")\n",
    "    # whenever it reaches an = then it changes into whatever data structure it is\n",
    "    # 1 and 2 are positional\n",
    "    # 5,7,8,10,23 are args\n",
    "    # person1, person2 and person3 are kwargs that are turned into a dictionary of people\n",
    "    # args will always be a tuple\n",
    "    # kwargs always output as dictionary but value can be whatever\n"
   ]
  },
  {
   "cell_type": "code",
   "execution_count": 42,
   "metadata": {},
   "outputs": [
    {
     "name": "stdout",
     "output_type": "stream",
     "text": [
      "{1: 'milk', 2: 'Cheese', 3: 'lactaid'}\n"
     ]
    }
   ],
   "source": [
    "shopping_cart = {\n",
    "    1 : \"milk\",\n",
    "    2 : \"Cheese\",\n",
    "    3 : \"lactaid\",\n",
    "}\n",
    "\n",
    "print(shopping_cart)"
   ]
  },
  {
   "cell_type": "code",
   "execution_count": 48,
   "metadata": {},
   "outputs": [
    {
     "name": "stdout",
     "output_type": "stream",
     "text": [
      "My favorite summertime activities are:\n",
      "\thiking\n",
      "\tswimming\n",
      "\tkayaking\n",
      "\tbbq's\n",
      "\n",
      "My favorite snacks are: \n",
      "picnic\n",
      "\tfinger sandwiches\n",
      "\tcharcuterie board\n",
      "\tchips\n",
      "\tlemonade\n",
      "campside\n",
      "\ts'mores\n",
      "\thot dogs\n",
      "\tcold beer\n",
      "\tbug spray\n"
     ]
    }
   ],
   "source": [
    "\n",
    "def summer_time(*activities, **snacks):\n",
    "\n",
    "    print(\"My favorite summertime activities are:\")\n",
    "\n",
    "    for activity in activities:\n",
    "        print(f\"\\t{activity}\")\n",
    "\n",
    "    print(\"\\nMy favorite snacks are: \")\n",
    "\n",
    "    for category, snack in snacks.items():\n",
    "        print(category)\n",
    "        for item in snack:\n",
    "            print(f\"\\t{item}\")\n",
    "\n",
    "summer_time(\"hiking\", \"swimming\", \"kayaking\", \"bbq's\", picnic = \n",
    "            [\"finger sandwiches\", \"charcuterie board\", \"chips\", \"lemonade\"],\n",
    "            campside = [\"s'mores\", \"hot dogs\", \"cold beer\", \"bug spray\"])\n",
    "    "
   ]
  },
  {
   "cell_type": "markdown",
   "metadata": {},
   "source": [
    "##### Docstring"
   ]
  },
  {
   "cell_type": "code",
   "execution_count": 53,
   "metadata": {},
   "outputs": [
    {
     "name": "stdout",
     "output_type": "stream",
     "text": [
      "Kenai\n",
      "Jeremy\n",
      "Luis\n",
      "Nico\n",
      "\n",
      "\n",
      "Help on function print_names in module __main__:\n",
      "\n",
      "print_names(arr)\n",
      "    print_names(arr)\n",
      "    function that takes in an list as an argument.\n",
      "    It will print the contents of the list separately.\n",
      "    It is expected that the list contains all strigns to be passed in.\n",
      "\n"
     ]
    }
   ],
   "source": [
    "# docstrings are a really nice way to leave notes about funciontality in your code\n",
    "# provide instructions\n",
    "\n",
    "def print_names(arr):\n",
    "    \n",
    "    \"\"\"\n",
    "    print_names(arr)\n",
    "    function that takes in an list as an argument.\n",
    "    It will print the contents of the list separately.\n",
    "    It is expected that the list contains all strigns to be passed in.\n",
    "    \n",
    "    \"\"\"\n",
    "    \n",
    "# for loop to print out each  name inside my array/list\n",
    "    for name in arr:\n",
    "        print(name)\n",
    "\n",
    "print_names((\"Kenai\", \"Jeremy\", \"Luis\", \"Nico\"))\n",
    "print(\"\\n\")\n",
    "\n",
    "help(print_names) # gives the information you put in quotes (docstring)\n",
    "# get into habit of writing docstrings and comments in code\n",
    "    "
   ]
  },
  {
   "cell_type": "markdown",
   "metadata": {},
   "source": [
    "##### Using a User Function in a Loop"
   ]
  },
  {
   "cell_type": "code",
   "execution_count": 3,
   "metadata": {},
   "outputs": [
    {
     "name": "stdin",
     "output_type": "stream",
     "text": [
      "What is going on? 3 or less words  quit\n"
     ]
    },
    {
     "name": "stdout",
     "output_type": "stream",
     "text": [
      "dict_keys(['not', 'a', 'lot'])\n",
      "I say heyyyyyyyyyy ('quit',)\n"
     ]
    },
    {
     "name": "stdin",
     "output_type": "stream",
     "text": [
      "Are you ready to quit?  quit\n"
     ]
    }
   ],
   "source": [
    "# playing around with some things\n",
    "\n",
    "def print_input(*answer):\n",
    "    print(f\"I say heyyyyyyyyyy {answer}\")\n",
    "\n",
    "while True:\n",
    "        ask = input(\"What is going on? 3 or less words \").split() # .split() puts the response as a list\n",
    "\n",
    "        # my_dict ={}\n",
    "    \n",
    "        # for i in range(len(ask)):\n",
    "        #     dynamic_val = ask[i]\n",
    "\n",
    "        #     my_dict[dynamic_val] = ask[i]\n",
    "    \n",
    "        print(my_dict.keys())\n",
    "\n",
    "        print_input(*ask)\n",
    "\n",
    "        response = input(\"Are you ready to quit? \").lower()\n",
    "\n",
    "        if response in {\"yes\", \"y\", \"quit\", \"please\", \"resign\"}:\n",
    "            break\n",
    "        "
   ]
  },
  {
   "cell_type": "code",
   "execution_count": null,
   "metadata": {},
   "outputs": [],
   "source": [
    "#textbook user function in a loop\n",
    "\n",
    "store = {}\n",
    "def print_input(answer):\n",
    "    print(f\"I say heyayayayayayaayayayayayaya {answer}\")\n",
    "    \n",
    "while True:\n",
    "    ask = input(\"What's going on?\")\n",
    "    \n",
    "    print_input(ask)\n",
    "    \n",
    "    response = input(\"Are you ready to quit? \")\n",
    "    if response.lower() == \"yes\":\n",
    "            break\n",
    "    "
   ]
  },
  {
   "cell_type": "markdown",
   "metadata": {},
   "source": [
    "## Function Exercises <br>\n",
    "### Exercise 1\n",
    "<p>Write a function that loops through a list of first_names and a list of last_names, combines the two and return a list of full_names</p>"
   ]
  },
  {
   "cell_type": "code",
   "execution_count": null,
   "metadata": {},
   "outputs": [],
   "source": []
  },
  {
   "cell_type": "code",
   "execution_count": 33,
   "metadata": {},
   "outputs": [
    {
     "name": "stdout",
     "output_type": "stream",
     "text": [
      "['John Smith', 'Evan Smith', 'Jordan Williams', 'Max Bell']\n"
     ]
    }
   ],
   "source": [
    "def comb_names():\n",
    "    \n",
    "    first_name = ['John', 'Evan', 'Jordan', 'Max', \"James\"]\n",
    "    last_name = ['Smith', 'Smith', 'Williams', 'Bell']\n",
    "\n",
    "    full_names=[]\n",
    "\n",
    "    for i,name in enumerate(last_name):\n",
    "        full_names.append(f\"{first_name[i]} {name}\")\n",
    "\n",
    "    return full_names\n",
    "\n",
    "print(comb_names())\n",
    "\n",
    "\n",
    "\n",
    "    \n",
    "        \n"
   ]
  },
  {
   "cell_type": "code",
   "execution_count": 34,
   "metadata": {},
   "outputs": [],
   "source": [
    "def full_names(first_names, last_names):\n",
    "    return [(first_names[i] + ' ' + last_names[i]) for i in range(min(len(first_names),len(last_names))) ]"
   ]
  },
  {
   "cell_type": "markdown",
   "metadata": {},
   "source": [
    "### Exercise 2\n",
    "Create a function that alters all values in the given list by subtracting 5 and then doubling them."
   ]
  },
  {
   "cell_type": "code",
   "execution_count": 35,
   "metadata": {},
   "outputs": [
    {
     "name": "stdout",
     "output_type": "stream",
     "text": [
      "[0, 10, 20, 30, -4]\n"
     ]
    }
   ],
   "source": [
    "input_list = [5,10,15,20,3]\n",
    "# output = [0,10,20,30,-4]\n",
    "def alter():\n",
    "    input_list = [5,10,15,20,3]\n",
    "    output = []\n",
    "    for num in input_list:\n",
    "        output.append((num-5)*2)\n",
    "    return output\n",
    "print(alter())\n"
   ]
  },
  {
   "cell_type": "markdown",
   "metadata": {},
   "source": [
    "### Exercise 3\n",
    "Create a function that takes in a list of strings and filters out the strings that DO NOT contain vowels. "
   ]
  },
  {
   "cell_type": "code",
   "execution_count": 71,
   "metadata": {},
   "outputs": [
    {
     "name": "stdout",
     "output_type": "stream",
     "text": [
      "Sheldon\n",
      "Pnny\n",
      "Leonard\n",
      "Hwrd\n",
      "Rj\n",
      "Amy\n",
      "Strt\n"
     ]
    },
    {
     "data": {
      "text/plain": [
       "{'Amy', 'Leonard', 'Sheldon'}"
      ]
     },
     "execution_count": 71,
     "metadata": {},
     "output_type": "execute_result"
    }
   ],
   "source": [
    "string_list = ['Sheldon','Pnny','Leonard','Hwrd','Rj','Amy','Strt']\n",
    "\n",
    "# output = ['Sheldon','Leonard','Amy']\n",
    "\n",
    "def no_vowels(arr): # taking in an array\n",
    "\n",
    "    result = set() # need to declare a result - made a set to get rid of duplicates\n",
    "    vowels = set([\"a\", \"e\", \"i\", \"o\", \"u\"])\n",
    "\n",
    "    # print(vowels)\n",
    "    for name in arr: # looping through the values (aka all the names)\n",
    "        print(name)\n",
    "        for letter in name: #looping through the letters/characters in the name\n",
    "            if letter.lower() in vowels:\n",
    "                result.add(name)\n",
    "                break\n",
    "    return result\n",
    "\n",
    "no_vowels(string_list)\n",
    "\n",
    "            \n",
    "            \n",
    "\n",
    "    "
   ]
  },
  {
   "cell_type": "code",
   "execution_count": null,
   "metadata": {},
   "outputs": [],
   "source": []
  },
  {
   "cell_type": "code",
   "execution_count": null,
   "metadata": {},
   "outputs": [],
   "source": []
  },
  {
   "cell_type": "markdown",
   "metadata": {},
   "source": [
    "### Exercise 4\n",
    "Create a function that accepts a list as a parameter and returns a dictionary containing the list items as it's keys, and the number of times they appear in the list as the values"
   ]
  },
  {
   "cell_type": "code",
   "execution_count": 77,
   "metadata": {},
   "outputs": [
    {
     "data": {
      "text/plain": [
       "{'Harry': 3, 'Hermione': 2, 'Ron': 4, 'Dobby': 1, 'Draco': 1, 'Luna': 1}"
      ]
     },
     "execution_count": 77,
     "metadata": {},
     "output_type": "execute_result"
    }
   ],
   "source": [
    "example_list = [\"Harry\", 'Hermione','Harry','Ron','Dobby','Draco','Luna','Harry','Hermione','Ron','Ron','Ron']\n",
    "\n",
    "# output = {\n",
    "#     \"Harry\":3,\n",
    "#     \"Hermione\":2,\n",
    "#     \"Ron\":4,\n",
    "#     \"Dobby\":1,\n",
    "#     \"Draco\":1,\n",
    "#     \"Luna\": 1\n",
    "# }\n",
    "\n",
    "\n",
    "# remember thos\n",
    "\n",
    "def potter_counter(arr):\n",
    "\n",
    "    potter_dict = {}\n",
    "\n",
    "    for name in arr:\n",
    "        if name in potter_dict:\n",
    "            potter_dict[name] += 1 # increments this because I have seen this name already\n",
    "        else:\n",
    "            potter_dict[name] = 1 # I havent seen this name at all\n",
    "\n",
    "    return potter_dict\n",
    "\n",
    "\n",
    "potter_counter(example_list)\n",
    "\n",
    "#This is probably how I will get the shopping cart answer\n"
   ]
  },
  {
   "cell_type": "code",
   "execution_count": null,
   "metadata": {},
   "outputs": [],
   "source": [
    "example_list = [\"Harry\", 'Hermione','Harry','Ron','Dobby','Draco','Luna','Harry','Hermione','Ron','Ron','Ron']\n",
    "\n",
    "def potter_counter(arr):\n",
    "\n",
    "    potter_dict = {}\n",
    "\n",
    "    for name in arr:\n",
    "        if name in potter_dict:\n",
    "            potter_dict[name] += 1 # increments this because I have seen this name already\n",
    "        else:\n",
    "            potter_dict[name] = 1 # I havent seen this name at all\n",
    "\n",
    "    print(potter_dict)\n",
    "    \n",
    "    \n",
    "\n",
    "\n",
    "potter_counter(example_list)\n",
    "\n",
    "\n",
    "\n",
    "\n"
   ]
  },
  {
   "cell_type": "markdown",
   "metadata": {},
   "source": [
    "\n",
    "\n",
    "## Scope <br>\n",
    "<p>Scope refers to the ability to access variables, different types of scope include:<br>a) Global<br>b) Function (local)<br>c) Class (local)</p>"
   ]
  },
  {
   "cell_type": "code",
   "execution_count": 15,
   "metadata": {},
   "outputs": [],
   "source": [
    "# placement of variable declaration matters\n",
    "\n",
    "# number = 3 # global variable (aka is accessible from anywhere)\n",
    "\n",
    "# def return_num(num2):\n",
    "\n",
    "#     new_num = num + 1 # locally scoped variable (aka only available inside the function \n",
    "#                     #it was created in or if it gets passed inside another function via a function call\n",
    "#                        # this works because it has access to local variable\n",
    "    \n",
    "#     print(new_num) \n",
    "#     print(number)\n",
    "\n",
    "#     global global_num2\n",
    "#     return global_num3\n",
    "\n",
    "# print(number)\n",
    "# return_num(10)\n",
    "# print(global_num)\n",
    "\n",
    "# def do_something_with_gv():\n",
    "\n",
    "#     return global_num * 3\n",
    "\n",
    "# print(do_something_with_gv())\n",
    "\n",
    "#NEED TO RETYPE THIS\n"
   ]
  },
  {
   "cell_type": "markdown",
   "metadata": {},
   "source": [
    "## Modules"
   ]
  },
  {
   "cell_type": "markdown",
   "metadata": {},
   "source": [
    "##### Importing Entire Modules\n"
   ]
  },
  {
   "cell_type": "code",
   "execution_count": 16,
   "metadata": {},
   "outputs": [
    {
     "name": "stdout",
     "output_type": "stream",
     "text": [
      "3.141592653589793\n",
      "3\n"
     ]
    }
   ],
   "source": [
    "## Modules\n",
    "\n",
    "import math # module we have access to in python\n",
    "\n",
    "print(math.pi)\n",
    "\n",
    "num = 5\n",
    "num2 = 2\n",
    "\n",
    "\n",
    "num3 = math.ceil(5/2) #rounds up\n",
    "print(num3)\n",
    "\n",
    "num4 = 5 // 2 # 5 / 2 ==2.5 but if we round down it is 2 \n",
    "print(num4)\n",
    "\n",
    "num5 = math.floor(5/2)\n",
    "print(num5)\n",
    "\n",
    "\n",
    "\n"
   ]
  },
  {
   "cell_type": "markdown",
   "metadata": {},
   "source": [
    "##### Importing Methods Only"
   ]
  },
  {
   "cell_type": "code",
   "execution_count": 17,
   "metadata": {},
   "outputs": [
    {
     "name": "stdout",
     "output_type": "stream",
     "text": [
      "3.141592653589793\n",
      "4\n"
     ]
    }
   ],
   "source": [
    "# from xxx import yyy\n",
    "#from math import floor\n",
    "\n",
    "from math import pi, ceil\n",
    "\n",
    "print(pi)\n",
    "\n",
    "print(ceil(3.88))"
   ]
  },
  {
   "cell_type": "markdown",
   "metadata": {},
   "source": [
    "##### Using the 'as' Keyword"
   ]
  },
  {
   "cell_type": "code",
   "execution_count": 18,
   "metadata": {},
   "outputs": [
    {
     "name": "stdout",
     "output_type": "stream",
     "text": [
      "2\n"
     ]
    }
   ],
   "source": [
    "# from xxx import yyy as z\n",
    "\n",
    "from math import floor as fl, ceil as cl\n",
    "\n",
    "print(fl(2.5))\n"
   ]
  },
  {
   "cell_type": "markdown",
   "metadata": {},
   "source": [
    "##### Creating a Module"
   ]
  },
  {
   "cell_type": "code",
   "execution_count": 19,
   "metadata": {},
   "outputs": [
    {
     "name": "stdout",
     "output_type": "stream",
     "text": [
      "Hello Mr/Ms Alex...we've been waiting for you!\n"
     ]
    }
   ],
   "source": [
    "from module import printName as pn\n",
    "\n",
    "pn(\"Alex\")\n",
    "\n",
    "# can go back to the python study book for more info on this"
   ]
  },
  {
   "cell_type": "code",
   "execution_count": 20,
   "metadata": {},
   "outputs": [
    {
     "name": "stdout",
     "output_type": "stream",
     "text": [
      "Hello Mr/Ms Jason...we've been waiting for you!\n"
     ]
    }
   ],
   "source": [
    "import module\n",
    "\n",
    "module.printName(\"Jason\")"
   ]
  },
  {
   "cell_type": "code",
   "execution_count": null,
   "metadata": {},
   "outputs": [],
   "source": []
  },
  {
   "cell_type": "markdown",
   "metadata": {},
   "source": [
    "# Homework Exercises"
   ]
  },
  {
   "cell_type": "markdown",
   "metadata": {},
   "source": [
    "### 1) Create a Module in VS Code and Import It into jupyter notebook <br>\n",
    "<p><b>Module should have the following capabilities:</b><br><br>\n",
    "1a) Has a function to calculate the square footage of a house <br>\n",
    "    <b>Reminder of Formula: Length X Width == Area</b><br>\n",
    "        <hr>\n",
    "1b) Has a function to calculate the circumference of a circle 2 Pi r <br><br>\n",
    "<b>Program in Jupyter Notebook should take in user input and use imported functions to calculate a circle's circumference or a houses square footage</b>\n",
    "</p>"
   ]
  },
  {
   "cell_type": "code",
   "execution_count": 6,
   "metadata": {},
   "outputs": [
    {
     "name": "stdin",
     "output_type": "stream",
     "text": [
      "Enter the length of the house  5\n",
      "Enter the width of the house 10\n",
      "Enter radius and I will calculate circumfrence:  2\n"
     ]
    },
    {
     "data": {
      "text/plain": [
       "12.566370614359172"
      ]
     },
     "execution_count": 6,
     "metadata": {},
     "output_type": "execute_result"
    }
   ],
   "source": [
    "from homework_module import *\n",
    "\n",
    "# finding area of house\n",
    "l = int(input(\"Enter the length of the house \"))\n",
    "w = int(input(\"Enter the width of the house\"))\n",
    "sq_foot(l, w)\n",
    "\n",
    "# finding circumfrence\n",
    "radius_input = int(input(\"Enter radius and I will calculate circumfrence: \" ))\n",
    "circumfrence(radius_input)\n"
   ]
  },
  {
   "cell_type": "markdown",
   "metadata": {},
   "source": [
    "### 2) Build a Shopping Cart Function <br>\n",
    "<p><b>You can use either lists or dictionaries. The program should have the following capabilities:</b><br><br>\n",
    "1) Takes in input <br>\n",
    "2) Stores user input into a dictionary or list <br>\n",
    "3) The User can add or delete items <br>\n",
    "4) The User can see current shopping list <br>\n",
    "5) The program Loops until user 'quits' <br>\n",
    "6) Upon quiting the program, print out all items in the user's list <br>\n",
    "</p>"
   ]
  },
  {
   "cell_type": "code",
   "execution_count": null,
   "metadata": {},
   "outputs": [],
   "source": [
    "# create an empty cart\n",
    "cart = []\n",
    "# Welcome message\n",
    "print(\"Hello! Welcome to your shopping cart! \")\n",
    "# user enters their name:\n",
    "name = input(\"What is your name? \")\n",
    "\n",
    "def view_cart():\n",
    "    \"\"\"\n",
    "    This allows user to view cart\n",
    "    \n",
    "    \"\"\"\n",
    "    print(f\"\\nCurrently in your cart: \")\n",
    "    for product in cart:\n",
    "        print(f\"\\t{product}\")\n",
    "\n",
    "def delete_item():\n",
    "\n",
    "    \"\"\"\n",
    "    This allows user to delete items in cart\n",
    "    \n",
    "    \"\"\"\n",
    "\n",
    "    print(f\"\\nCurrently in your cart: \")\n",
    "    for product in cart:\n",
    "        print(f\"\\t{product}\")\n",
    "        \n",
    "        remove_product = input(\"What would you like to remove? \")\n",
    "        cart.remove(remove_product)\n",
    "\n",
    "        print(f\"\\n{remove_product} has been removed.\")\n",
    "\n",
    "\n",
    "def input_item():\n",
    "\n",
    "    \"\"\"\n",
    "    This allows user to input items\n",
    "    \n",
    "    \"\"\"\n",
    "    product = input(\"Enter your item. \")\n",
    "    cart.append(product)\n",
    "    print(f\"\\n{product} has been successfully added to your cart.\")\n",
    "\n",
    "while True:\n",
    "    print(\"\\nWhat would you like to do? \")\n",
    "    print (\"Add item: press 'a' \")\n",
    "    print (\"View your cart: press 'v' \")\n",
    "    print (\"Delete item: press 'd' \")\n",
    "    print (\"Quit: press 'q' \")\n",
    "  \n",
    "    # allows user to select option\n",
    "    selection = input(\"Please make a selection: \")\n",
    "    if selection.lower() == 'a':\n",
    "        input_item()\n",
    "\n",
    "    elif selection.lower() =='v':\n",
    "        view_cart()\n",
    "\n",
    "    elif selection.lower() =='d':\n",
    "        delete_item()\n",
    "\n",
    "    elif selection.lower() == 'q':\n",
    "        print(\"Thank you for using the program \")\n",
    "        break\n",
    "        \n",
    "    else:\n",
    "        print(\"Invalid option. Please try again.\")\n",
    "\n",
    "        "
   ]
  }
 ],
 "metadata": {
  "kernelspec": {
   "display_name": "Python 3 (ipykernel)",
   "language": "python",
   "name": "python3"
  },
  "language_info": {
   "codemirror_mode": {
    "name": "ipython",
    "version": 3
   },
   "file_extension": ".py",
   "mimetype": "text/x-python",
   "name": "python",
   "nbconvert_exporter": "python",
   "pygments_lexer": "ipython3",
   "version": "3.11.4"
  }
 },
 "nbformat": 4,
 "nbformat_minor": 4
}
